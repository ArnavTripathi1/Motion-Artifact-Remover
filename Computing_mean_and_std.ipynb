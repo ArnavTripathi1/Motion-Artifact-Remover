{
 "cells": [
  {
   "cell_type": "markdown",
   "metadata": {
    "id": "0HM0PSjU7yH4"
   },
   "source": [
    "## Importing modules and Mounting Drive"
   ]
  },
  {
   "cell_type": "code",
   "execution_count": null,
   "metadata": {},
   "outputs": [],
   "source": [
    "import numpy as np\n",
    "import torch\n",
    "from torchvision.transforms import ToTensor\n",
    "\n",
    "import os\n",
    "from tqdm.auto import tqdm\n",
    "from PIL import Image\n",
    "import gc # using garbage collector to free up ram after computing mean and std over an image\n",
    "\n",
    "from google.colab import drive\n",
    "drive.mount('/content/drive')"
   ]
  },
  {
   "cell_type": "markdown",
   "metadata": {
    "id": "q3i0xzFY8Emu"
   },
   "source": [
    "## Computing Mean and Std over Train Images"
   ]
  },
  {
   "cell_type": "code",
   "execution_count": null,
   "metadata": {},
   "outputs": [],
   "source": [
    "train_paths = sorted(os.listdir('/content/drive/MyDrive/Restoring Brain CT and Brain MRI/data/Images/train'))\n",
    "train_path_list = []\n",
    "\n",
    "for path in train_paths:\n",
    "  train_path_list.append(os.path.join('/content/drive/MyDrive/Restoring Brain CT and Brain MRI/data/Images/train', path))\n",
    "\n",
    "to_tensor = ToTensor()\n",
    "\n",
    "means = []\n",
    "stds = []\n",
    "for i in tqdm(range(len(train_path_list))):\n",
    "  img = Image.open(train_path_list[i]).convert(\"RGB\")\n",
    "\n",
    "  img = to_tensor(img)\n",
    "\n",
    "  means.append(img.mean(dim=[1, 2]))\n",
    "  stds.append(img.std(dim=[1, 2]))\n",
    "\n",
    "  del img\n",
    "  gc.collect()\n",
    "\n",
    "mean = torch.stack(means).mean(dim=0)\n",
    "std = torch.stack(stds).mean(dim=0)\n",
    "\n",
    "print(f\"Mean: {mean}\")\n",
    "print(f\"Std: {std}\")"
   ]
  },
  {
   "cell_type": "code",
   "execution_count": null,
   "metadata": {},
   "outputs": [],
   "source": []
  }
 ],
 "metadata": {
  "language_info": {
   "name": "python"
  }
 },
 "nbformat": 4,
 "nbformat_minor": 0
}
